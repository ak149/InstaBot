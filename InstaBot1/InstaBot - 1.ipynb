{
 "cells": [
  {
   "cell_type": "markdown",
   "metadata": {},
   "source": [
    "## NOTE: \n",
    "### As Instagram is a dynamic site , so it is not necessary the answers of all the questions remain same."
   ]
  },
  {
   "cell_type": "code",
   "execution_count": 4,
   "metadata": {},
   "outputs": [],
   "source": [
    "from bs4 import BeautifulSoup\n",
    "from selenium.webdriver.support.ui import WebDriverWait\n",
    "from selenium.webdriver.support import expected_conditions as EC\n",
    "from selenium.webdriver.common.by import By\n",
    "import time\n",
    "from selenium.common.exceptions import NoSuchElementException\n"
   ]
  },
  {
   "cell_type": "code",
   "execution_count": 11,
   "metadata": {},
   "outputs": [
    {
     "name": "stdout",
     "output_type": "stream",
     "text": [
      "Which browser you want to use?? Enter C for Chrome and F for Firefox\n",
      "c\n"
     ]
    }
   ],
   "source": [
    "from selenium import webdriver\n",
    "print(\"Which browser you want to use?? Enter C for Chrome and F for Firefox\")\n",
    "option = input()\n",
    "if option == 'C' or option == 'c':\n",
    "    driver = webdriver.Chrome(executable_path = \"D:/Downloads/chromedriver\")\n",
    "if option == 'F' or option == 'f':\n",
    "    driver = webdriver.Firefox(executable_path = \"D:\\Downloads\\geckodriver\")\n"
   ]
  },
  {
   "cell_type": "code",
   "execution_count": 12,
   "metadata": {},
   "outputs": [],
   "source": [
    "driver.get(\"https://www.instagram.com/\")\n",
    "wait = WebDriverWait(driver, 10)\n",
    "element = wait.until(EC.presence_of_element_located((By.XPATH, \"//button[@type = 'button']\")))"
   ]
  },
  {
   "cell_type": "markdown",
   "metadata": {},
   "source": [
    "##### I am logging through Facebook"
   ]
  },
  {
   "cell_type": "code",
   "execution_count": 13,
   "metadata": {},
   "outputs": [],
   "source": [
    "def login():\n",
    "\n",
    "    reg = driver.find_element_by_xpath(\"//button[@type = 'button']\")\n",
    "\n",
    "    reg.click()\n",
    "\n",
    "    username = \"9958233139\"#\"SAMPLEUSERNAME\"\n",
    "    password = \"kittu1310\"#\"SAMPLEPASSWORD\"\n",
    "\n",
    "\n",
    "    driver.find_element_by_xpath(\"//input[@id = 'email']\").send_keys(username)\n",
    "    driver.find_element_by_xpath(\"//input[@id = 'pass']\").send_keys(password)\n",
    "\n",
    "    driver.find_element_by_xpath(\"//button[@id = 'loginbutton']\").click()\n",
    "\n",
    "\n",
    "    wait = WebDriverWait(driver, 10)\n",
    "    element = wait.until(EC.presence_of_element_located((By.XPATH, \"//div[@class = 'mt3GC']/button\")))\n",
    "\n",
    "    # This line is to TURN OFF NOTIFICATIONS as when I logged in it asked me to turn on or off notifications.\n",
    "    try:\n",
    "        driver.find_elements_by_xpath(\"//div[@class = 'mt3GC']/button\")[1].click()\n",
    "    except NoSuchElementException:\n",
    "        pass"
   ]
  },
  {
   "cell_type": "code",
   "execution_count": 14,
   "metadata": {},
   "outputs": [],
   "source": [
    "login()"
   ]
  },
  {
   "cell_type": "markdown",
   "metadata": {},
   "source": [
    "#  All instagram handles shown when food is searched"
   ]
  },
  {
   "cell_type": "code",
   "execution_count": null,
   "metadata": {},
   "outputs": [],
   "source": [
    "def search_handle():\n",
    "    driver.find_element_by_xpath(\"//div[@class = 'LWmhU _0aCwM']/div\").click()\n",
    "\n",
    "    driver.find_element_by_xpath(\"//div[@class = 'LWmhU _0aCwM']/input\").send_keys(\"food\")\n",
    "\n",
    "    wait = WebDriverWait(driver, 10)\n",
    "    element = wait.until(EC.presence_of_element_located((By.XPATH, \"//div[@class = 'fuqBx']/a\")))\n",
    "\n",
    "    elements_in_food_list = driver.find_elements_by_xpath(\"//div[@class = 'fuqBx']/a\")\n",
    "\n",
    "    # I have removed all the hashtags and the locations that were shown in the list\n",
    "\n",
    "    for element in elements_in_food_list:\n",
    "        attr1 = BeautifulSoup(element.get_attribute('outerHTML'),'html.parser').a.div.div['class'] \n",
    "        attr2 = BeautifulSoup(element.get_attribute('outerHTML'),'html.parser').a.div.span['class']\n",
    "        if 'coreSpriteLocation' in attr1:         # Remove Locations \n",
    "            pass\n",
    "        elif 'coreSpriteHashtag' in attr2:        # Remove Hashtags\n",
    "            pass\n",
    "        else:\n",
    "            print(BeautifulSoup(element.get_attribute('outerHTML'),'html.parser').find('span',{'class':\"Ap253\"}).text)"
   ]
  },
  {
   "cell_type": "code",
   "execution_count": null,
   "metadata": {},
   "outputs": [],
   "source": [
    "search_handle()"
   ]
  },
  {
   "cell_type": "markdown",
   "metadata": {},
   "source": [
    "# Search So Delhi and follow and unfollow it "
   ]
  },
  {
   "cell_type": "code",
   "execution_count": null,
   "metadata": {},
   "outputs": [],
   "source": [
    "def follow_unfollow_handle(handle_name):\n",
    "    driver.find_element_by_xpath(\"//div[@class = 'LWmhU _0aCwM']//div[contains(@class,'coreSpriteSearchClear')]\").click()\n",
    "\n",
    "    driver.find_element_by_xpath(\"//div[@class = 'LWmhU _0aCwM']/div\").click()\n",
    "\n",
    "    driver.find_element_by_xpath(\"//div[@class = 'LWmhU _0aCwM']/input\").send_keys(handle_name)\n",
    "\n",
    "    wait = WebDriverWait(driver, 10)\n",
    "    element = wait.until(EC.presence_of_element_located((By.XPATH, \"//div[@class = 'fuqBx']/a\")))\n",
    "\n",
    "    driver.find_element_by_xpath(\"//div[@class = 'fuqBx']/a\").click()\n",
    "\n",
    "    wait = WebDriverWait(driver, 10)\n",
    "    element = wait.until(EC.presence_of_element_located((By.XPATH, \"//span[contains(@class,'vBF20')]/button\")))\n",
    "\n",
    "\n",
    "    if driver.find_element_by_xpath(\"//span[contains(@class,'vBF20')]/button\").text == 'Following':\n",
    "        print(\"Already Following\")\n",
    "    else:\n",
    "        driver.find_element_by_xpath(\"//span[contains(@class,'vBF20')]/button\").click()\n",
    "\n",
    "\n",
    "    if driver.find_element_by_xpath(\"//span[contains(@class,'vBF20')]/button\").text == 'Following':\n",
    "        driver.find_element_by_xpath(\"//span[contains(@class,'vBF20')]/button\").click()\n",
    "        wait = WebDriverWait(driver, 5)\n",
    "        element = wait.until(EC.presence_of_element_located((By.XPATH, \"//div[@class = 'mt3GC']/button\")))\n",
    "        driver.find_elements_by_xpath(\"//div[@class = 'mt3GC']/button\")[0].click()\n",
    "    else:\n",
    "        print(\"Already unfollowed\")"
   ]
  },
  {
   "cell_type": "code",
   "execution_count": null,
   "metadata": {},
   "outputs": [],
   "source": [
    "follow_unfollow_handle(\"So Delhi\")"
   ]
  },
  {
   "cell_type": "code",
   "execution_count": null,
   "metadata": {},
   "outputs": [],
   "source": [
    "driver.find_element_by_xpath(\"//div[@class = 'LWmhU _0aCwM']/div\").click()"
   ]
  },
  {
   "cell_type": "markdown",
   "metadata": {},
   "source": [
    "# Like and Unlike Top 30 posts of 'dilsefoodie'"
   ]
  },
  {
   "cell_type": "code",
   "execution_count": null,
   "metadata": {},
   "outputs": [],
   "source": [
    "def access_posts(handle_name):\n",
    "    driver.find_element_by_xpath(\"//div[@class = 'LWmhU _0aCwM']/input\").send_keys(handle_name)\n",
    "\n",
    "    wait = WebDriverWait(driver, 10)\n",
    "    element = wait.until(EC.presence_of_element_located((By.XPATH, \"//div[@class = 'fuqBx']/a\")))\n",
    "\n",
    "    driver.find_element_by_xpath(\"//div[@class = 'fuqBx']/a\").click()\n",
    "    driver.implicitly_wait(5)\n",
    "\n",
    "    time.sleep(3)\n",
    "    driver.execute_script(\"window.scrollBy(0,document.body.scrollHeight);\")\n",
    "    time.sleep(1)\n",
    "\n",
    "\n",
    "\n",
    "\n",
    "    count = 1\n",
    "\n",
    "    for post in driver.find_elements_by_xpath(\"//article[@class = 'ySN3v']//div[contains(@class,'Nnq7C')]/div\"):\n",
    "        post.click()\n",
    "        print(count)\n",
    "        if BeautifulSoup(driver.find_element_by_xpath(\"//span[@class = 'fr66n']//span\").get_attribute('outerHTML'),'html.parser').span['aria-label'] == 'Unlike':\n",
    "            driver.find_element_by_xpath(\"//span[@class = 'fr66n']/button\").click()\n",
    "            print(\"Unliked\")\n",
    "        else:\n",
    "            print(\"Already Unliked\")\n",
    "        driver.implicitly_wait(10)\n",
    "        driver.find_element_by_xpath(\"//button[@class = 'ckWGn']\").click()\n",
    "        if count >= 30:\n",
    "            break\n",
    "        count = count + 1"
   ]
  },
  {
   "cell_type": "code",
   "execution_count": null,
   "metadata": {},
   "outputs": [],
   "source": [
    "access_posts(\"dilsefoodie\")"
   ]
  },
  {
   "cell_type": "code",
   "execution_count": null,
   "metadata": {},
   "outputs": [],
   "source": [
    "driver.find_element_by_xpath(\"//div[@class = 'LWmhU _0aCwM']\").click()\n",
    "driver.find_element_by_xpath(\"//div[@class = 'LWmhU _0aCwM']/input\").clear()"
   ]
  },
  {
   "cell_type": "markdown",
   "metadata": {},
   "source": [
    "# Usernames of first 500 followers of 'foodtalkindia' and 'sodelhi'"
   ]
  },
  {
   "cell_type": "code",
   "execution_count": null,
   "metadata": {},
   "outputs": [],
   "source": [
    "def scroll_follower_panel():\n",
    "    followers_panel = driver.find_element_by_xpath('//div[@class = \"isgrP\"]')\n",
    "\n",
    "    no_of_followers = 500\n",
    "    current_scroll_position, new_height= 0, 1\n",
    "    i = 0\n",
    "    while i < no_of_followers:\n",
    "        try:\n",
    "            follower = driver.find_elements_by_xpath(\"//div[@class = 'PZuss']/li\")[i]\n",
    "            print(i+1)\n",
    "            print(BeautifulSoup(follower.get_attribute(\"innerHTML\"),'html.parser').find_all('a',{\"class\":['FPmhX', 'notranslate'  '_0imsa' ]})[0].text)\n",
    "            i = i + 1\n",
    "        except IndexError:\n",
    "            speed = 0.5\n",
    "            current_scroll_position = new_height\n",
    "            new_height = driver.execute_script(\"return arguments[0].scrollHeight\",followers_panel)\n",
    "            while current_scroll_position <= new_height:\n",
    "                current_scroll_position += speed\n",
    "                driver.execute_script(\"arguments[0].scrollTo(0, arguments[1]);\",followers_panel,current_scroll_position)\n",
    "            time.sleep(2)"
   ]
  },
  {
   "cell_type": "code",
   "execution_count": null,
   "metadata": {},
   "outputs": [],
   "source": [
    "def find_followers(handle_name):\n",
    "    driver.find_element_by_xpath(\"//div[@class = 'LWmhU _0aCwM']/input\").send_keys(handle_name)\n",
    "    wait = WebDriverWait(driver, 10)\n",
    "    element = wait.until(EC.presence_of_element_located((By.XPATH, \"//div[@class = 'fuqBx']/a\")))\n",
    "\n",
    "    driver.find_element_by_xpath(\"//div[@class = 'fuqBx']/a\").click()\n",
    "\n",
    "    time.sleep(2)\n",
    "    wait = WebDriverWait(driver, 30)\n",
    "    element = wait.until(EC.presence_of_element_located((By.XPATH, \"//li[@class = 'Y8-fY ']\")))\n",
    "    driver.find_elements_by_xpath(\"//li[@class = 'Y8-fY ']\")[1].click()\n",
    "\n",
    "    wait = WebDriverWait(driver, 10)\n",
    "    element = wait.until(EC.presence_of_element_located((By.XPATH, \"//div[@class = 'isgrP']\")))\n",
    "    \n",
    "    print(\"Followers of \",handle_name,\"are : \")\n",
    "    \n",
    "    scroll_follower_panel()\n",
    "    \n",
    "    driver.find_element_by_xpath(\"//button[@class = 'wpO6b ']\").click()\n",
    "    driver.find_element_by_xpath(\"//div[@class = 'LWmhU _0aCwM']\").click()\n",
    "    driver.find_element_by_xpath(\"//div[@class = 'LWmhU _0aCwM']/input\").clear()\n"
   ]
  },
  {
   "cell_type": "code",
   "execution_count": null,
   "metadata": {},
   "outputs": [],
   "source": [
    "find_followers(\"foodtalkindia\")\n",
    "find_followers(\"So Delhi\")"
   ]
  },
  {
   "cell_type": "markdown",
   "metadata": {},
   "source": [
    "###### To find the followers that follow \"foodtalkindia\" and not me I found the mutual followers between the page and me. Then from my followers list I checked if some of the mutual followers exist in my followers also then they will be the required followers.\n",
    "\n",
    "###### If no mutual followers exist between the page and me then there are no such required followers\n"
   ]
  },
  {
   "cell_type": "code",
   "execution_count": null,
   "metadata": {},
   "outputs": [],
   "source": [
    "def mutual_follower_exist(handle_name):\n",
    "    driver.find_element_by_xpath(\"//div[@class = 'LWmhU _0aCwM']\").click()\n",
    "    driver.find_element_by_xpath(\"//div[@class = 'LWmhU _0aCwM']/input\").clear()\n",
    "\n",
    "    driver.find_element_by_xpath(\"//div[@class = 'LWmhU _0aCwM']/input\").send_keys(handle_name)\n",
    "\n",
    "    wait = WebDriverWait(driver, 10)\n",
    "    element = wait.until(EC.presence_of_element_located((By.XPATH, \"//div[@class = 'fuqBx']/a\")))\n",
    "\n",
    "    driver.find_element_by_xpath(\"//div[@class = 'fuqBx']/a\").click()\n",
    "\n",
    "    time.sleep(2)\n",
    "\n",
    "    ## Check if some mutual followers are there between the page and me\n",
    "    try:\n",
    "        driver.find_element_by_xpath(\"//a[@class = '_32eiM']\").click()\n",
    "        driver.find_element_by_xpath(\"//a[contains(@class,'sqdOP')]\").click()\n",
    "\n",
    "        followers_panel = driver.find_element_by_xpath('//div[@class = \"isgrP\"]')\n",
    "\n",
    "\n",
    "        ## Find mutual followers\n",
    "        mutual_followers = []\n",
    "        i = 0\n",
    "        current_scroll_position, new_height= 0, 1\n",
    "        while  driver.find_elements_by_xpath(\"//button[contains(@class,'sqdOP')]\")[i].text == 'Following':\n",
    "            try:\n",
    "                follower = driver.find_elements_by_xpath(\"//div[@class = 'PZuss']/li\")[i]\n",
    "                mutual_followers.append(BeautifulSoup(follower.get_attribute(\"innerHTML\"),'html.parser').find_all('a',{\"class\":['FPmhX', 'notranslate'  '_0imsa' ]})[0].text)\n",
    "                i = i + 1\n",
    "            except IndexError:\n",
    "                speed = 0.5\n",
    "                current_scroll_position = new_height\n",
    "                new_height = driver.execute_script(\"return arguments[0].scrollHeight\",followers_panel)\n",
    "                while current_scroll_position <= new_height:\n",
    "                    current_scroll_position += speed\n",
    "                    driver.execute_script(\"arguments[0].scrollTo(0, arguments[1]);\",followers_panel,current_scroll_position)\n",
    "                time.sleep(2)\n",
    "\n",
    "        driver.find_element_by_xpath(\"//button[@class = 'wpO6b ']\").click()\n",
    "        driver.find_elements_by_xpath(\"//div[@class = '_47KiJ']/div\")[2].click()\n",
    "        wait = WebDriverWait(driver, 10)\n",
    "        element = wait.until(EC.presence_of_element_located((By.XPATH, \"//ul[@class = 'k9GMp ']/li\")))\n",
    "        driver.find_elements_by_xpath(\"//ul[@class = 'k9GMp ']/li\")[1].click()\n",
    "\n",
    "\n",
    "        followers_panel = driver.find_element_by_xpath('//div[@class = \"isgrP\"]')\n",
    "        no_of_followers = int(BeautifulSoup(driver.find_elements_by_xpath(\"//ul[@class = 'k9GMp ']/li\")[1].get_attribute(\"innerHTML\"),'html.parser').a.text.strip(\" followers\"))\n",
    "\n",
    "        ## Find my followers\n",
    "        my_followers = []\n",
    "        i = 0\n",
    "        current_scroll_position, new_height= 0, 1\n",
    "        while i < no_of_followers:\n",
    "            try:\n",
    "                follower = driver.find_elements_by_xpath(\"//div[@class = 'PZuss']/li\")[i]\n",
    "                my_followers.append(BeautifulSoup(follower.get_attribute(\"innerHTML\"),'html.parser').find_all('a',{\"class\":['FPmhX', 'notranslate'  '_0imsa' ]})[0].text)\n",
    "                i = i + 1\n",
    "            except IndexError:\n",
    "                speed = 0.5\n",
    "                current_scroll_position = new_height\n",
    "                new_height = driver.execute_script(\"return arguments[0].scrollHeight\",followers_panel)\n",
    "                while current_scroll_position <= new_height:\n",
    "                    current_scroll_position += speed\n",
    "                    driver.execute_script(\"arguments[0].scrollTo(0, arguments[1]);\",followers_panel,current_scroll_position)\n",
    "                time.sleep(2)\n",
    "\n",
    "\n",
    "        # Checking if some mutual followers exist in my followers list also\n",
    "        final_ans = []\n",
    "\n",
    "        for follower in mutual_followers:\n",
    "            if follower in my_followers:\n",
    "                final_ans.append(follower)\n",
    "\n",
    "        for follower in final_ans:\n",
    "            print(follower)\n",
    "\n",
    "\n",
    "\n",
    "    except NoSuchElementException:\n",
    "        print(\"No such followers are there\")\n",
    "\n",
    "    try:\n",
    "        driver.find_element_by_xpath(\"//button[@class = 'wpO6b ']\").click()\n",
    "    except NoSuchElementException:\n",
    "        pass"
   ]
  },
  {
   "cell_type": "code",
   "execution_count": null,
   "metadata": {},
   "outputs": [],
   "source": [
    "mutual_follower_exist(\"foodtalkindia\")"
   ]
  },
  {
   "cell_type": "markdown",
   "metadata": {},
   "source": [
    "# Check the Story of Coding Ninjas"
   ]
  },
  {
   "cell_type": "markdown",
   "metadata": {},
   "source": [
    "###### To check if there is some story or not I found a class \"carul\" which was present if there was some story.\n",
    "###### To check if the user has seen the story , I checked the width and height of the story icon , there was a difference of 2 units if the user has seen the story\n"
   ]
  },
  {
   "cell_type": "code",
   "execution_count": null,
   "metadata": {},
   "outputs": [],
   "source": [
    "def check_story(handle_name):\n",
    "    driver.find_element_by_xpath(\"//div[@class = 'LWmhU _0aCwM']\").click()\n",
    "    driver.find_element_by_xpath(\"//div[@class = 'LWmhU _0aCwM']/input\").clear()\n",
    "\n",
    "    driver.find_element_by_xpath(\"//div[@class = 'LWmhU _0aCwM']/input\").send_keys(handle_name)\n",
    "\n",
    "    wait = WebDriverWait(driver, 10)\n",
    "    element = wait.until(EC.presence_of_element_located((By.XPATH, \"//div[@class = 'fuqBx']/a\")))\n",
    "\n",
    "    driver.find_element_by_xpath(\"//div[@class = 'fuqBx']/a\").click()\n",
    "    time.sleep(3)\n",
    "\n",
    "\n",
    "    Height = BeautifulSoup(driver.find_element_by_xpath(\"//div[@class = 'XjzKX']//canvas\").get_attribute(\"outerHTML\"),'html.parser').canvas['height']\n",
    "    Width = BeautifulSoup(driver.find_element_by_xpath(\"//div[@class = 'XjzKX']//canvas\").get_attribute(\"outerHTML\"),'html.parser').canvas['width']\n",
    "\n",
    "    if int(Height) == 208 and int(Width) == 208:\n",
    "        print(\"Already Viewed\")\n",
    "    if int(Height) == 210 and int(Width) == 210:\n",
    "        driver.find_element_by_xpath(\"//div[@class = 'XjzKX']/div\").click()\n",
    "\n",
    "        try :\n",
    "            driver.find_element_by_xpath(\"//section[@contains(class,'carul')]\")\n",
    "        except NoSuchElementException:\n",
    "            print(\"User has no story\")"
   ]
  },
  {
   "cell_type": "code",
   "execution_count": null,
   "metadata": {},
   "outputs": [],
   "source": [
    "check_story(\"coding.ninjas\")"
   ]
  },
  {
   "cell_type": "code",
   "execution_count": null,
   "metadata": {},
   "outputs": [],
   "source": [
    "def logout():\n",
    "    wait = WebDriverWait(driver, 10)\n",
    "    element = wait.until(EC.presence_of_element_located((By.XPATH, \"//div[@class = 'XrOey']\")))\n",
    "    driver.find_elements_by_xpath(\"//div[@class = 'XrOey']\")[2].click()\n",
    "    \n",
    "    wait = WebDriverWait(driver, 10)\n",
    "    element = wait.until(EC.presence_of_element_located((By.XPATH, \"//button[@class = 'dCJp8 afkep']\")))\n",
    "    driver.find_element_by_xpath(\"//button[@class = 'dCJp8 afkep']\").click()\n",
    "    \n",
    "    wait = WebDriverWait(driver, 10)\n",
    "    element = wait.until(EC.presence_of_element_located((By.XPATH, \"//button[@class = 'aOOlW   HoLwm ']\")))\n",
    "    driver.find_elements_by_xpath(\"//button[@class = 'aOOlW   HoLwm ']\")[8].click()\n",
    "    "
   ]
  },
  {
   "cell_type": "code",
   "execution_count": null,
   "metadata": {},
   "outputs": [],
   "source": [
    "logout()"
   ]
  }
 ],
 "metadata": {
  "kernelspec": {
   "display_name": "Python 3",
   "language": "python",
   "name": "python3"
  },
  "language_info": {
   "codemirror_mode": {
    "name": "ipython",
    "version": 3
   },
   "file_extension": ".py",
   "mimetype": "text/x-python",
   "name": "python",
   "nbconvert_exporter": "python",
   "pygments_lexer": "ipython3",
   "version": "3.7.3"
  },
  "toc": {
   "base_numbering": 1,
   "nav_menu": {},
   "number_sections": true,
   "sideBar": true,
   "skip_h1_title": false,
   "title_cell": "Table of Contents",
   "title_sidebar": "Contents",
   "toc_cell": false,
   "toc_position": {},
   "toc_section_display": true,
   "toc_window_display": false
  }
 },
 "nbformat": 4,
 "nbformat_minor": 2
}
