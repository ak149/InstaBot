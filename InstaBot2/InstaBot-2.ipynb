{
 "cells": [
  {
   "cell_type": "markdown",
   "metadata": {},
   "source": [
    "## NOTE: \n",
    "### As Instagram is a dynamic site , so it is not necessary the answers of all the questions remain same."
   ]
  },
  {
   "cell_type": "code",
   "execution_count": 14,
   "metadata": {},
   "outputs": [],
   "source": [
    "from bs4 import BeautifulSoup,NavigableString\n",
    "from selenium.webdriver.support.ui import WebDriverWait\n",
    "from selenium.webdriver.support import expected_conditions as EC\n",
    "from selenium.webdriver.common.by import By\n",
    "import time\n",
    "from selenium.common.exceptions import NoSuchElementException\n",
    "import numpy as np\n",
    "import pandas as pd\n",
    "import matplotlib.pyplot as plt\n",
    "import datetime\n",
    "from datetime import date"
   ]
  },
  {
   "cell_type": "code",
   "execution_count": 15,
   "metadata": {},
   "outputs": [],
   "source": [
    "import nltk\n",
    "import pandas as pd\n",
    "import re\n",
    "from nltk import pos_tag\n",
    "from nltk.stem import WordNetLemmatizer\n",
    "from nltk.stem import PorterStemmer \n",
    "from nltk.corpus import stopwords\n",
    "import string\n",
    "from nltk.tokenize import sent_tokenize,word_tokenize,SpaceTokenizer\n",
    "from nltk.corpus import wordnet"
   ]
  },
  {
   "cell_type": "code",
   "execution_count": 16,
   "metadata": {},
   "outputs": [
    {
     "name": "stdout",
     "output_type": "stream",
     "text": [
      "Which browser you want to use?? Enter C for Chrome and F for Firefox\n",
      "c\n"
     ]
    }
   ],
   "source": [
    "from selenium import webdriver\n",
    "print(\"Which browser you want to use?? Enter C for Chrome and F for Firefox\")\n",
    "option = input()\n",
    "if option == 'C' or option == 'c':\n",
    "    driver = webdriver.Chrome(executable_path = \"D:/Downloads/chromedriver\")\n",
    "if option == 'F' or option == 'f':\n",
    "    driver = webdriver.Firefox(executable_path = \"D:\\Downloads\\geckodriver\")\n"
   ]
  },
  {
   "cell_type": "code",
   "execution_count": 17,
   "metadata": {},
   "outputs": [],
   "source": [
    "driver.get(\"https://www.instagram.com/\")\n",
    "wait = WebDriverWait(driver, 10)\n",
    "element = wait.until(EC.presence_of_element_located((By.XPATH, \"//button[@type = 'button']\")))"
   ]
  },
  {
   "cell_type": "markdown",
   "metadata": {},
   "source": [
    "##### I am logging through Facebook"
   ]
  },
  {
   "cell_type": "code",
   "execution_count": 18,
   "metadata": {},
   "outputs": [],
   "source": [
    "def login():\n",
    "\n",
    "    reg = driver.find_element_by_xpath(\"//button[@type = 'button']\")\n",
    "\n",
    "    reg.click()\n",
    "\n",
    "    username = \"9958233139\"#\"SAMPLEUSERNAME\"\n",
    "    password = \"kittu1310\"#\"SAMPLEPASSWORD\"\n",
    "\n",
    "\n",
    "    driver.find_element_by_xpath(\"//input[@id = 'email']\").send_keys(username)\n",
    "    driver.find_element_by_xpath(\"//input[@id = 'pass']\").send_keys(password)\n",
    "\n",
    "    driver.find_element_by_xpath(\"//button[@id = 'loginbutton']\").click()\n",
    "\n",
    "\n",
    "    wait = WebDriverWait(driver, 10)\n",
    "    element = wait.until(EC.presence_of_element_located((By.XPATH, \"//div[@class = 'mt3GC']/button\")))\n",
    "\n",
    "    # This line is to TURN OFF NOTIFICATIONS as when I logged in it asked me to turn on or off notifications.\n",
    "    try:\n",
    "        driver.find_elements_by_xpath(\"//div[@class = 'mt3GC']/button\")[1].click()\n",
    "    except NoSuchElementException:\n",
    "        pass"
   ]
  },
  {
   "cell_type": "code",
   "execution_count": 19,
   "metadata": {},
   "outputs": [],
   "source": [
    "login()"
   ]
  },
  {
   "cell_type": "markdown",
   "metadata": {},
   "source": [
    "# 1\n"
   ]
  },
  {
   "cell_type": "code",
   "execution_count": 20,
   "metadata": {},
   "outputs": [],
   "source": [
    "def find_handle_names():\n",
    "    driver.find_element_by_xpath(\"//div[@class = 'LWmhU _0aCwM']/div\").click()\n",
    "\n",
    "    driver.find_element_by_xpath(\"//div[@class = 'LWmhU _0aCwM']/input\").send_keys(\"food\")\n",
    "\n",
    "    wait = WebDriverWait(driver, 10)\n",
    "    element = wait.until(EC.presence_of_element_located((By.XPATH, \"//div[@class = 'fuqBx']/a\")))\n",
    "\n",
    "    elements_in_food_list = driver.find_elements_by_xpath(\"//div[@class = 'fuqBx']/a\")\n",
    "\n",
    "    handles_food = []\n",
    "    for element in elements_in_food_list:\n",
    "        attr1 = BeautifulSoup(element.get_attribute('outerHTML'),'html.parser').a.div.div['class'] \n",
    "        attr2 = BeautifulSoup(element.get_attribute('outerHTML'),'html.parser').a.div.span['class']\n",
    "        if 'coreSpriteLocation' in attr1:\n",
    "            pass\n",
    "        elif 'coreSpriteHashtag' in attr2:\n",
    "            pass\n",
    "        else:\n",
    "            handles_food.append(BeautifulSoup(element.get_attribute('outerHTML'),'html.parser').find('span',{'class':\"Ap253\"}).text)\n",
    "    handles_food.remove('food')\n",
    "    return handles_food"
   ]
  },
  {
   "cell_type": "code",
   "execution_count": 21,
   "metadata": {},
   "outputs": [],
   "source": [
    "handles_food = find_handle_names()"
   ]
  },
  {
   "cell_type": "code",
   "execution_count": 37,
   "metadata": {},
   "outputs": [
    {
     "name": "stdout",
     "output_type": "stream",
     "text": [
      "foodrush.recipe\n",
      "foodtalkindia\n",
      "mumbaifoodie\n",
      "_foodasia\n",
      "foodbible\n",
      "foodys\n",
      "iharnoor\n",
      "the_punjabi_foodie\n",
      "yourfoodlab\n",
      "dilsefoodie\n",
      "foodiee_love\n",
      "foodviraam\n",
      "cchannel_food\n",
      "foodon.snu\n",
      "foodbeast\n",
      "foodandwine\n",
      "the_dainty_deity\n",
      "foodstirs\n",
      "redheadpassenger\n",
      "foodnetwork\n",
      "foodgasm_jaipur\n",
      "food._.connoisseur\n",
      "foodlover___13\n",
      "_my_food_cravings_\n",
      "foodofmumbai\n",
      "foodlty\n",
      "meghnasfoodmagic\n",
      "foodydiy.s\n",
      "rajshrifood\n",
      "thisisinsiderfood\n",
      "_.haqsefoodie._\n",
      "fooddrifter\n",
      "turban_foodie\n",
      "_foodiebunch_\n",
      "foodytops\n",
      "foodbloggerai\n",
      "foodie_incarnate\n",
      "forkmeetsfood\n",
      "dilli_wale_foodies\n",
      "food.marine\n",
      "delhifoodwalks\n",
      "foodyvid\n",
      "ndtv_food\n",
      "foodconnectindia\n",
      "foodhubster\n",
      "khaata_rahe_mera_dil\n",
      "thehungryfriends\n",
      "foodpandaindia\n",
      "buzzfeedfood\n",
      "raipurfoodpedia\n",
      "thefooddrug\n",
      "food_lovers_mad\n",
      "foody.boss\n",
      "food.spy.ir\n",
      "foodgod\n",
      "dillifoodies\n",
      "popxoyum\n",
      "foodsememes\n",
      "ashpazidorehami\n",
      "foodhallindia\n",
      "scrollfood\n",
      "sweety.foody\n",
      "jollyfoodfellow\n",
      "saalafoodie\n",
      "thekitchenmccabe\n",
      "foodyviral\n",
      "sorrentinabyfoodhall\n",
      "wirallyfood\n",
      "skyfoody\n",
      "diyfoodys\n",
      "the_foodie_dad\n",
      "foodofchefs\n",
      "foodpanda_pakistan\n",
      "foodiebm\n",
      "healthy.foodyss\n",
      "tutorials.gallery\n",
      "livingfoodz\n"
     ]
    }
   ],
   "source": [
    "for handle in handles_food:\n",
    "    print(handle)"
   ]
  },
  {
   "cell_type": "code",
   "execution_count": 22,
   "metadata": {},
   "outputs": [],
   "source": [
    "driver.find_element_by_xpath(\"//div[@class = 'LWmhU _0aCwM']/input\").clear()\n",
    "driver.find_element_by_xpath(\"//div[contains(@class,'coreSpriteSearchClear')]\").click()"
   ]
  },
  {
   "cell_type": "code",
   "execution_count": 23,
   "metadata": {},
   "outputs": [],
   "source": [
    "def find_num_followers(handles_food):\n",
    "    handle_follower = {}\n",
    "    for handle in handles_food[:10]:\n",
    "        time.sleep(1)\n",
    "        wait = WebDriverWait(driver, 20)\n",
    "        element = wait.until(EC.presence_of_element_located((By.XPATH, \"//div[@class = 'LWmhU _0aCwM']/div\")))\n",
    "        driver.find_element_by_xpath(\"//div[@class = 'LWmhU _0aCwM']/div\").click()\n",
    "        driver.find_element_by_xpath(\"//div[@class = 'LWmhU _0aCwM']/input\").send_keys(handle)\n",
    "\n",
    "        time.sleep(2)\n",
    "        wait = WebDriverWait(driver, 20)\n",
    "        element = wait.until(EC.presence_of_element_located((By.XPATH, \"//div[@class = 'fuqBx']/a\")))\n",
    "        driver.find_element_by_xpath(\"//div[@class = 'fuqBx']/a\").click()\n",
    "\n",
    "        time.sleep(4)\n",
    "        wait = WebDriverWait(driver, 20)\n",
    "        element = wait.until(EC.presence_of_element_located((By.XPATH, \"//ul[@class = 'k9GMp ']/li\")))\n",
    "        handle_follower[handle] = BeautifulSoup(driver.find_elements_by_xpath(\"//ul[@class = 'k9GMp ']/li\")[1].get_attribute(\"innerHTML\"),'html.parser').a.text.strip(\" followers\")\n",
    "    return handle_follower"
   ]
  },
  {
   "cell_type": "code",
   "execution_count": 25,
   "metadata": {},
   "outputs": [],
   "source": [
    "handle_follower = find_num_followers(handles_food)"
   ]
  },
  {
   "cell_type": "code",
   "execution_count": 26,
   "metadata": {},
   "outputs": [],
   "source": [
    "def sort_followers(handle_follower):\n",
    "    for key in handle_follower:\n",
    "        if handle_follower[key][-1].isdigit():\n",
    "            handle_follower[key] = int(float(handle_follower[key]))\n",
    "        elif handle_follower[key][-1].isalpha():\n",
    "            if handle_follower[key][-1] == 'k':\n",
    "                handle_follower[key] = int(float(handle_follower[key].strip('k'))*1000)\n",
    "            elif handle_follower[key][-1] == 'm':\n",
    "                handle_follower[key] = int(float(handle_follower[key].strip('m'))*1000000)\n",
    "    \n",
    "    top_five_handles = np.array(sorted(handle_follower.items(), key=lambda kv: kv[1],reverse = True)[:5])\n",
    "    \n",
    "    y_ticks = np.arange(0,11000000,1000000)\n",
    "    x_pos = []\n",
    "    y_pos = []\n",
    "\n",
    "    for i in top_five_handles:\n",
    "        x_pos.append(i[0])\n",
    "        y_pos.append(int(i[1]))\n",
    "\n",
    "\n",
    "    plt.bar(x_pos,y_pos)\n",
    "    plt.xticks(rotation = 45)\n",
    "    plt.yticks(y_ticks,rotation = 30)\n",
    "    plt.ylabel('Number of Followers')\n",
    "    plt.title(\"Number of Followers of Top 5 Insta-Handles\")\n",
    "    for i in range(len(x_pos)):\n",
    "        plt.text(x_pos[i],y_pos[i]+3000,int(float(y_pos[i])),horizontalalignment='center')\n",
    "    plt.show()\n",
    "    \n",
    "    return x_pos\n",
    "    "
   ]
  },
  {
   "cell_type": "code",
   "execution_count": 27,
   "metadata": {},
   "outputs": [
    {
     "data": {
      "image/png": "[encoded data removed]",
      "text/plain": [
       "<Figure size 432x288 with 1 Axes>"
      ]
     },
     "metadata": {
      "needs_background": "light"
     },
     "output_type": "display_data"
    }
   ],
   "source": [
    "x_pos = sort_followers(handle_follower)"
   ]
  },
  {
   "cell_type": "code",
   "execution_count": 29,
   "metadata": {},
   "outputs": [],
   "source": [
    "driver.find_element_by_xpath(\"//div[@class = 'cq2ai']\").click()"
   ]
  },
  {
   "cell_type": "code",
   "execution_count": 56,
   "metadata": {},
   "outputs": [],
   "source": [
    "def manage_posts(x_pos):\n",
    "    total_posts = {}\n",
    "    for handle in x_pos:\n",
    "        driver.find_element_by_xpath(\"//div[@class = 'LWmhU _0aCwM']/div\").click()\n",
    "        driver.find_element_by_xpath(\"//div[@class = 'LWmhU _0aCwM']/input\").send_keys(handle)\n",
    "        wait = WebDriverWait(driver, 10)\n",
    "        element = wait.until(EC.presence_of_element_located((By.XPATH, \"//div[@class = 'fuqBx']/a\")))\n",
    "        driver.find_element_by_xpath(\"//div[@class = 'fuqBx']/a\").click()\n",
    "\n",
    "        print(\"Posts by\",handle)\n",
    "        count = 0\n",
    "        for post in driver.find_elements_by_xpath(\"//article[@class = 'ySN3v']//div[contains(@class,'Nnq7C')]/div\"):\n",
    "            today = date.today()\n",
    "            time.sleep(2)\n",
    "            post.click()\n",
    "            time.sleep(2)\n",
    "            wait = WebDriverWait(driver, 10)\n",
    "            element = wait.until(EC.presence_of_element_located((By.XPATH, \"//a[@class = 'c-Yi7']\")))\n",
    "            date_post = BeautifulSoup(driver.find_element_by_xpath(\"//a[@class = 'c-Yi7']\").get_attribute(\"outerHTML\"),'html.parser').time[\"datetime\"]\n",
    "            date_post = date_post.split(\"T\")[0]\n",
    "            post_py_date = datetime.date(int(float(date_post.split(\"-\")[0])),int(float(date_post.split(\"-\")[1])),int(float(date_post.split(\"-\")[2])))\n",
    "\n",
    "            driver.find_element_by_xpath(\"//button[@class = 'ckWGn']\").click()\n",
    "            if (today - post_py_date).days > 3:\n",
    "                if count == 0:\n",
    "                    print(\"There are no posts in last 3 days\")\n",
    "                elif count > 0:\n",
    "                    print(\"No further post from last 3 days\")\n",
    "                break\n",
    "            else:\n",
    "                count = count + 1\n",
    "                print(\"Post Dated:\",post_py_date)\n",
    "        print(\"Total number of posts from last 3 days: \",count)\n",
    "        print()\n",
    "        total_posts[handle] = count\n",
    "    return total_posts"
   ]
  },
  {
   "cell_type": "code",
   "execution_count": 60,
   "metadata": {},
   "outputs": [
    {
     "name": "stdout",
     "output_type": "stream",
     "text": [
      "Posts by foodys\n",
      "Post Dated: 2020-01-24\n",
      "Post Dated: 2020-01-23\n",
      "Post Dated: 2020-01-22\n",
      "Post Dated: 2020-01-21\n",
      "No further post from last 3 days\n",
      "Total number of posts from last 3 days:  4\n",
      "\n",
      "Posts by foodbible\n",
      "There are no posts in last 3 days\n",
      "Total number of posts from last 3 days:  0\n",
      "\n",
      "Posts by yourfoodlab\n",
      "There are no posts in last 3 days\n",
      "Total number of posts from last 3 days:  0\n",
      "\n",
      "Posts by dilsefoodie\n",
      "Post Dated: 2020-01-24\n",
      "Post Dated: 2020-01-22\n",
      "Post Dated: 2020-01-21\n",
      "No further post from last 3 days\n",
      "Total number of posts from last 3 days:  3\n",
      "\n",
      "Posts by foodrush.recipe\n",
      "Post Dated: 2020-01-23\n",
      "Post Dated: 2020-01-21\n",
      "No further post from last 3 days\n",
      "Total number of posts from last 3 days:  2\n",
      "\n"
     ]
    }
   ],
   "source": [
    "total_posts = manage_posts(x_pos)"
   ]
  },
  {
   "cell_type": "code",
   "execution_count": 61,
   "metadata": {},
   "outputs": [],
   "source": [
    "def plot_data_posts(total_posts):\n",
    "    total_post_array = np.array(sorted(total_posts.items(), key=lambda kv: kv[1],reverse = True))\n",
    "\n",
    "    y_ticks = np.arange(0,11,1)\n",
    "    x_pos = []\n",
    "    y_pos = []\n",
    "\n",
    "    for i in total_post_array:\n",
    "        x_pos.append(i[0])\n",
    "        y_pos.append(int(i[1]))\n",
    "\n",
    "\n",
    "    plt.bar(x_pos,y_pos,width = 0.6,color = 'orange',edgecolor = 'black')\n",
    "    plt.xticks(rotation = 45)\n",
    "    plt.yticks(y_ticks,rotation = 30)\n",
    "    plt.ylabel('Number of Posts in last 3 days')\n",
    "    plt.title(\"Number of Posts by Top 5 Insta-Handles\")\n",
    "    for i in range(len(x_pos)):\n",
    "        plt.text(x_pos[i],y_pos[i]+0.2,int(float(y_pos[i])),horizontalalignment='center')\n",
    "    plt.show()"
   ]
  },
  {
   "cell_type": "code",
   "execution_count": 62,
   "metadata": {},
   "outputs": [
    {
     "data": {
      "image/png": "[encoded data removed]",
      "text/plain": [
       "<Figure size 432x288 with 1 Axes>"
      ]
     },
     "metadata": {
      "needs_background": "light"
     },
     "output_type": "display_data"
    }
   ],
   "source": [
    "plot_data_posts(total_posts)"
   ]
  },
  {
   "cell_type": "code",
   "execution_count": 63,
   "metadata": {},
   "outputs": [],
   "source": [
    "driver.find_element_by_xpath(\"//div[@class = 'LWmhU _0aCwM']\").click()\n",
    "driver.find_element_by_xpath(\"//div[@class = 'LWmhU _0aCwM']/input\").clear()"
   ]
  },
  {
   "cell_type": "markdown",
   "metadata": {},
   "source": [
    "# 2"
   ]
  },
  {
   "cell_type": "code",
   "execution_count": 64,
   "metadata": {},
   "outputs": [],
   "source": [
    "def deEmojify(inputString):\n",
    "    return inputString.encode('ascii', 'ignore').decode('ascii')\n",
    "\n",
    "def substract(a, b):                              \n",
    "    return \"\".join(a.rsplit(b))\n",
    "\n",
    "def get_wordnet_pos(treebank_tag):\n",
    "\n",
    "    if treebank_tag.startswith('J'):\n",
    "        return wordnet.ADJ\n",
    "    elif treebank_tag.startswith('V'):\n",
    "        return wordnet.VERB\n",
    "    elif treebank_tag.startswith('R'):\n",
    "        return wordnet.ADV\n",
    "    else:\n",
    "        return wordnet.NOUN"
   ]
  },
  {
   "cell_type": "code",
   "execution_count": 65,
   "metadata": {
    "code_folding": []
   },
   "outputs": [],
   "source": [
    "def manipulate_content(total_posts):\n",
    "    stop_words = set(stopwords.words('english')) \n",
    "    punctuations = list(string.punctuation)\n",
    "    stop_words.update(punctuations)\n",
    "    words_frequency = {}\n",
    "\n",
    "    time.sleep(2)\n",
    "    driver.execute_script(\"window.scrollBy(0,document.body.scrollHeight);\")\n",
    "    time.sleep(1)\n",
    "\n",
    "    for handle in list(total_posts.keys())[:5]:\n",
    "        time.sleep(1)\n",
    "        driver.find_element_by_xpath(\"//div[@class = 'LWmhU _0aCwM']/input\").send_keys(handle)\n",
    "        time.sleep(2)\n",
    "\n",
    "        wait = WebDriverWait(driver, 10)\n",
    "        element = wait.until(EC.presence_of_element_located((By.XPATH, \"//div[@class = 'fuqBx']/a\")))\n",
    "        driver.find_element_by_xpath(\"//div[@class = 'fuqBx']/a\").click()\n",
    "\n",
    "        count = 1\n",
    "\n",
    "        for post in driver.find_elements_by_xpath(\"//article[@class = 'ySN3v']//div[contains(@class,'Nnq7C')]/div\"):\n",
    "            time.sleep(2)\n",
    "            post.click()\n",
    "            time.sleep(2)\n",
    "\n",
    "            wait = WebDriverWait(driver, 10)\n",
    "            element = wait.until(EC.presence_of_element_located((By.XPATH, \"//ul[@class = 'XQXOT']/div\")))\n",
    "            content_main = BeautifulSoup(driver.find_element_by_xpath(\"//ul[@class = 'XQXOT']/div\").get_attribute(\"outerHTML\"),'html.parser')\n",
    "            post_comment = deEmojify(content_main.find('div',class_ = 'C4VMK').span.text)\n",
    "\n",
    "\n",
    "            list_mention = []\n",
    "            mentions = driver.find_elements_by_xpath(\"//div[@class = 'C4VMK']/span/a\")\n",
    "            for a in mentions:\n",
    "                mention_name = BeautifulSoup(a.get_attribute(\"outerHTML\"),'html.parser').text\n",
    "                list_mention.append(mention_name)\n",
    "            for mention_name in list_mention:\n",
    "                post_comment = substract(post_comment,mention_name)\n",
    "\n",
    "            freq_hashtags = {}\n",
    "\n",
    "            for hashtag in list_mention:\n",
    "                if hashtag[0] == \"#\":\n",
    "                    if hashtag in freq_hashtags:\n",
    "                        freq_hashtags[hashtag] += 1\n",
    "                    else:\n",
    "                        freq_hashtags[hashtag] = 1\n",
    "\n",
    "\n",
    "            # to remove all the special character\n",
    "            post_comment = re.sub(r'\\W', ' ', post_comment)\n",
    "            # to convert multiple spaces into single spaces\n",
    "            post_comment = re.sub(r'\\s+', ' ', post_comment, flags=re.I)\n",
    "            # remove integers\n",
    "            post_comment = re.sub(r'\\d+', '', post_comment)\n",
    "            # convert all words into lowerletter\n",
    "            post_comment = post_comment.lower()\n",
    "\n",
    "            tkr = SpaceTokenizer()\n",
    "            lemmatizer = WordNetLemmatizer()\n",
    "            ps = PorterStemmer() \n",
    "            for word in tkr.tokenize(post_comment):\n",
    "                word = word.lower()\n",
    "                pos = pos_tag(word)\n",
    "                ps.stem(word)\n",
    "                lemmatizer.lemmatize(word,pos = get_wordnet_pos(word))\n",
    "                if word not in stop_words and word in words_frequency and word != \"\":\n",
    "                    words_frequency[word] += 1\n",
    "                else:\n",
    "                    words_frequency[word] = 1\n",
    "\n",
    "\n",
    "            time.sleep(4)\n",
    "            driver.find_element_by_xpath(\"//button[@class = 'ckWGn']\").click()\n",
    "            if count >= 10:\n",
    "                break\n",
    "            count = count + 1\n",
    "    return words_frequency,freq_hashtags"
   ]
  },
  {
   "cell_type": "code",
   "execution_count": 66,
   "metadata": {},
   "outputs": [],
   "source": [
    "words_frequency,freq_hashtags = manipulate_content(total_posts)"
   ]
  },
  {
   "cell_type": "code",
   "execution_count": 67,
   "metadata": {},
   "outputs": [],
   "source": [
    "def convert_to_csv(words_frequency):\n",
    "    (pd.DataFrame.from_dict(data=words_frequency, orient='index').to_csv('word_frequncy.csv', header=False))\n",
    "    \n",
    "    convert_to_csv()"
   ]
  },
  {
   "cell_type": "code",
   "execution_count": 69,
   "metadata": {},
   "outputs": [
    {
     "data": {
      "image/png": "[encoded data removed]",
      "text/plain": [
       "<Figure size 432x288 with 1 Axes>"
      ]
     },
     "metadata": {},
     "output_type": "display_data"
    }
   ],
   "source": [
    "def plot_hashtags(freq_hashtags):\n",
    "    sorted_hashtags = np.array(sorted(freq_hashtags.items(), key=lambda kv: kv[1],reverse = True)[:5])\n",
    "    plt.pie(sorted_hashtags[:,1],labels = sorted_hashtags[:,0],autopct =\"%.2f\")\n",
    "    plt.show()\n",
    "    \n",
    "plot_hashtags(freq_hashtags)"
   ]
  },
  {
   "cell_type": "code",
   "execution_count": 70,
   "metadata": {},
   "outputs": [],
   "source": [
    "driver.find_element_by_xpath(\"//div[@class = 'LWmhU _0aCwM']\").click()\n",
    "driver.find_element_by_xpath(\"//div[@class = 'LWmhU _0aCwM']/input\").clear()"
   ]
  },
  {
   "cell_type": "markdown",
   "metadata": {},
   "source": [
    "# 3"
   ]
  },
  {
   "cell_type": "code",
   "execution_count": 71,
   "metadata": {},
   "outputs": [],
   "source": [
    "def avg_like_count(total_posts):\n",
    "    avg_likes = {}\n",
    "    for handle in total_posts.keys():\n",
    "        driver.find_element_by_xpath(\"//div[@class = 'LWmhU _0aCwM']/input\").send_keys(handle)\n",
    "        time.sleep(2)\n",
    "\n",
    "        wait = WebDriverWait(driver, 10)\n",
    "        element = wait.until(EC.presence_of_element_located((By.XPATH, \"//div[@class = 'fuqBx']/a\")))\n",
    "        driver.find_element_by_xpath(\"//div[@class = 'fuqBx']/a\").click()\n",
    "\n",
    "        total_likes = 0\n",
    "        count = 1\n",
    "\n",
    "        for post in driver.find_elements_by_xpath(\"//article[@class = 'ySN3v']//div[contains(@class,'Nnq7C')]/div\"):\n",
    "            post.click()\n",
    "            time.sleep(2)\n",
    "            try:\n",
    "                total_likes += int(float(driver.find_element_by_xpath(\"//div[@class = 'Nm9Fw']/button/span\").text.replace(',','')))\n",
    "            except NoSuchElementException:\n",
    "                driver.find_element_by_xpath(\"//section[contains(@class,'EDfFK')]/div/span\").click()\n",
    "                total_likes += int(float(driver.find_element_by_xpath(\"//div[@class = 'vJRqr']/span\").text.replace(',','')))\n",
    "\n",
    "            time.sleep(2)\n",
    "            driver.find_element_by_xpath(\"//button[@class = 'ckWGn']\").click()\n",
    "            if count >= 10:\n",
    "                break\n",
    "            count = count + 1\n",
    "        avg_likes[handle] = (total_likes/10)\n",
    "\n",
    "    return avg_likes"
   ]
  },
  {
   "cell_type": "code",
   "execution_count": 73,
   "metadata": {},
   "outputs": [],
   "source": [
    "avg_likes = avg_like_count(total_posts)"
   ]
  },
  {
   "cell_type": "code",
   "execution_count": 74,
   "metadata": {},
   "outputs": [],
   "source": [
    "def follower_like_ratio(avg_likes,handle_follower):\n",
    "    follower_like = {}\n",
    "    for key in avg_likes:\n",
    "        follower_like[key] = avg_likes[key]/handle_follower[key]\n",
    "\n",
    "\n",
    "    follower_like_array = np.array(sorted(follower_like.items(), key=lambda kv: kv[1],reverse = True))\n",
    "    return follower_like_array"
   ]
  },
  {
   "cell_type": "code",
   "execution_count": 75,
   "metadata": {},
   "outputs": [],
   "source": [
    "follower_like_array = follower_like_ratio(avg_likes,handle_follower)"
   ]
  },
  {
   "cell_type": "code",
   "execution_count": 76,
   "metadata": {},
   "outputs": [],
   "source": [
    "def plot_ratio(follower_like_array):\n",
    "    y_ticks = np.arange(0,0.055,0.005)\n",
    "    x_pos = []\n",
    "    y_pos = []\n",
    "\n",
    "    for i in follower_like_array:\n",
    "        x_pos.append(i[0])\n",
    "        y_pos.append(float(i[1]))\n",
    "\n",
    "\n",
    "    plt.bar(x_pos,y_pos,width = 0.6,color = 'cyan',edgecolor = 'black')\n",
    "    plt.xticks(rotation = 45)\n",
    "    plt.yticks(y_ticks,rotation = 30)\n",
    "    plt.ylabel('Follower:Like Ratio')\n",
    "    plt.title(\"Follower:Like Ratio of  Top 5 Insta-Handles\")\n",
    "    for i in range(len(x_pos)):\n",
    "        plt.text(x_pos[i],y_pos[i]+0.0004,round(float(y_pos[i]),4),horizontalalignment='center')\n",
    "    plt.show()"
   ]
  },
  {
   "cell_type": "code",
   "execution_count": 77,
   "metadata": {},
   "outputs": [
    {
     "data": {
      "image/png": "[encoded data removed]",
      "text/plain": [
       "<Figure size 432x288 with 1 Axes>"
      ]
     },
     "metadata": {
      "needs_background": "light"
     },
     "output_type": "display_data"
    }
   ],
   "source": [
    "plot_ratio(follower_like_array)"
   ]
  },
  {
   "cell_type": "code",
   "execution_count": 78,
   "metadata": {},
   "outputs": [],
   "source": [
    "def logout():\n",
    "    wait = WebDriverWait(driver, 10)\n",
    "    element = wait.until(EC.presence_of_element_located((By.XPATH, \"//div[@class = 'XrOey']\")))\n",
    "    driver.find_elements_by_xpath(\"//div[@class = 'XrOey']\")[2].click()\n",
    "    \n",
    "    wait = WebDriverWait(driver, 10)\n",
    "    element = wait.until(EC.presence_of_element_located((By.XPATH, \"//button[@class = 'dCJp8 afkep']\")))\n",
    "    driver.find_element_by_xpath(\"//button[@class = 'dCJp8 afkep']\").click()\n",
    "    \n",
    "    wait = WebDriverWait(driver, 10)\n",
    "    element = wait.until(EC.presence_of_element_located((By.XPATH, \"//button[@class = 'aOOlW   HoLwm ']\")))\n",
    "    driver.find_elements_by_xpath(\"//button[@class = 'aOOlW   HoLwm ']\")[8].click()\n",
    "    "
   ]
  },
  {
   "cell_type": "code",
   "execution_count": 80,
   "metadata": {},
   "outputs": [],
   "source": [
    "logout()"
   ]
  }
 ],
 "metadata": {
  "kernelspec": {
   "display_name": "Python 3",
   "language": "python",
   "name": "python3"
  },
  "language_info": {
   "codemirror_mode": {
    "name": "ipython",
    "version": 3
   },
   "file_extension": ".py",
   "mimetype": "text/x-python",
   "name": "python",
   "nbconvert_exporter": "python",
   "pygments_lexer": "ipython3",
   "version": "3.7.3"
  },
  "toc": {
   "base_numbering": 1,
   "nav_menu": {},
   "number_sections": true,
   "sideBar": true,
   "skip_h1_title": false,
   "title_cell": "Table of Contents",
   "title_sidebar": "Contents",
   "toc_cell": false,
   "toc_position": {},
   "toc_section_display": true,
   "toc_window_display": false
  }
 },
 "nbformat": 4,
 "nbformat_minor": 2
}
